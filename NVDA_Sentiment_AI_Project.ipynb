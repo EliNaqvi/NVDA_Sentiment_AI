
{
 "cells": [
  {
   "cell_type": "markdown",
   "metadata": {},
   "source": [
    "# 📈 Sentiment-Based NVDA Stock Movement Predictor\n",
    "This notebook analyzes the relationship between daily news sentiment and NVDA stock price changes using OpenAI's GPT model."
   ]
  },
  {
   "cell_type": "code",
   "execution_count": null,
   "metadata": {},
   "outputs": [],
   "source": [
    "# Install required packages\n",
    "!pip install openai yfinance matplotlib"
   ]
  },
  {
   "cell_type": "code",
   "execution_count": null,
   "metadata": {},
   "outputs": [],
   "source": [
    "import openai\n",
    "import yfinance as yf\n",
    "import datetime\n",
    "import pandas as pd\n",
    "import matplotlib.pyplot as plt\n",
    "import numpy as np"
   ]
  },
  {
   "cell_type": "code",
   "execution_count": null,
   "metadata": {},
   "outputs": [],
   "source": [
    "# Set your OpenAI API key\n",
    "openai.api_key = 'your-api-key-here'"
   ]
  },
  {
   "cell_type": "code",
   "execution_count": null,
   "metadata": {},
   "outputs": [],
   "source": [
    "# Load NVDA stock data (last 30 days)\n",
    "end = datetime.datetime.now()\n",
    "start = end - datetime.timedelta(days=30)\n",
    "nvda = yf.download('NVDA', start=start, end=end)\n",
    "nvda['Price Change %'] = nvda['Close'].pct_change() * 100\n",
    "nvda.dropna(inplace=True)\n",
    "nvda.head()"
   ]
  },
  {
   "cell_type": "code",
   "execution_count": null,
   "metadata": {},
   "outputs": [],
   "source": [
    "# Sample placeholder for daily headlines (normally pulled from a news API)\n",
    "headlines = [\n",
    "    'Nvidia continues to soar as demand for AI chips grows',\n",
    "    'Analysts raise price targets for Nvidia after earnings beat',\n",
    "    'Concerns rise about chip supply chain constraints',\n",
    "    'Nvidia partners with major cloud providers',\n",
    "    'Market sees potential overheating in tech stocks'\n",
    "]\n",
    "# Duplicate to match stock data length\n",
    "headline_data = headlines * (len(nvda) // len(headlines) + 1)\n",
    "headline_data = headline_data[:len(nvda)]"
   ]
  },
  {
   "cell_type": "code",
   "execution_count": null,
   "metadata": {},
   "outputs": [],
   "source": [
    "# Analyze sentiment using OpenAI\n",
    "sentiments = []\n",
    "for headline in headline_data:\n",
    "    response = openai.ChatCompletion.create(\n",
    "        model='gpt-4',\n",
    "        messages=[\n",
    "            {'role': 'system', 'content': 'You are a sentiment analysis model that outputs a number between -1 (very negative) and 1 (very positive).'},\n",
    "            {'role': 'user', 'content': f'Sentiment score for: "{headline}"'}\n",
    "        ]\n",
    "    )\n",
    "    score = float(response['choices'][0]['message']['content'].strip())\n",
    "    sentiments.append(score)\n",
    "nvda['Sentiment'] = sentiments\n",
    "nvda.head()"
   ]
  },
  {
   "cell_type": "code",
   "execution_count": null,
   "metadata": {},
   "outputs": [],
   "source": [
    "# Plot sentiment vs price change\n",
    "plt.figure(figsize=(12, 6))\n",
    "plt.scatter(nvda['Sentiment'], nvda['Price Change %'], alpha=0.7)\n",
    "plt.title('NVDA Sentiment vs Daily Price Change %')\n",
    "plt.xlabel('Sentiment Score')\n",
    "plt.ylabel('Daily Price Change (%)')\n",
    "plt.grid(True)\n",
    "plt.show()"
   ]
  }
 ],
 "metadata": {
  "kernelspec": {
   "display_name": "Python 3",
   "language": "python",
   "name": "python3"
  },
  "language_info": {
   "name": "python",
   "version": ""
  }
 },
 "nbformat": 4,
 "nbformat_minor": 2
}
